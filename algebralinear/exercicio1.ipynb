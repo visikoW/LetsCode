{
 "cells": [
  {
   "cell_type": "code",
   "execution_count": 3,
   "metadata": {},
   "outputs": [],
   "source": [
    "import numpy as np"
   ]
  },
  {
   "cell_type": "code",
   "execution_count": 4,
   "metadata": {},
   "outputs": [
    {
     "name": "stdout",
     "output_type": "stream",
     "text": [
      "[[4550 1050]\n",
      " [6030 1290]]\n"
     ]
    }
   ],
   "source": [
    "a = np.array([\n",
    "    [1, 5],\n",
    "    [5, 3]\n",
    "])\n",
    "\n",
    "b = np.array([\n",
    "    [3, 3],\n",
    "    [0, 4]\n",
    "])\n",
    "\n",
    "c = np.array([\n",
    "    [9, 4],\n",
    "    [1, 2]\n",
    "])\n",
    "\n",
    "d = np.array([\n",
    "    [2, 1],\n",
    "    [5, 0]\n",
    "])\n",
    "\n",
    "e = np.array([\n",
    "    [0, 5],\n",
    "    [5, 0]\n",
    "])\n",
    "\n",
    "ab = np.dot(a, b)\n",
    "cd = np.dot(c, d)\n",
    "abe = np.dot(ab, e)\n",
    "abcde = np.dot(abe, cd)\n",
    "\n",
    "# Multiplicação de todas as listas\n",
    "\n",
    "print(abcde)"
   ]
  }
 ],
 "metadata": {
  "kernelspec": {
   "display_name": "Python 3.10.4 64-bit",
   "language": "python",
   "name": "python3"
  },
  "language_info": {
   "codemirror_mode": {
    "name": "ipython",
    "version": 3
   },
   "file_extension": ".py",
   "mimetype": "text/x-python",
   "name": "python",
   "nbconvert_exporter": "python",
   "pygments_lexer": "ipython3",
   "version": "3.10.4"
  },
  "orig_nbformat": 4,
  "vscode": {
   "interpreter": {
    "hash": "916dbcbb3f70747c44a77c7bcd40155683ae19c65e1c03b4aa3499c5328201f1"
   }
  }
 },
 "nbformat": 4,
 "nbformat_minor": 2
}
