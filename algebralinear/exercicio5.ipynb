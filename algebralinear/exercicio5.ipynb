{
 "cells": [
  {
   "cell_type": "code",
   "execution_count": 2,
   "metadata": {},
   "outputs": [],
   "source": [
    "import numpy as np"
   ]
  },
  {
   "cell_type": "markdown",
   "metadata": {},
   "source": [
    "### Questão 5:\n",
    "\n",
    "Dada a matriz principal dos exercícios 3 e 4, calcule o determinante da mesma utilizando o\n",
    "numpy"
   ]
  },
  {
   "cell_type": "code",
   "execution_count": 4,
   "metadata": {},
   "outputs": [
    {
     "name": "stdout",
     "output_type": "stream",
     "text": [
      "-6.0\n"
     ]
    }
   ],
   "source": [
    "matriz = np.array([\n",
    "    [1, 5, 3],\n",
    "    [3, 2, 1],\n",
    "    [1, 1, 1]\n",
    "])\n",
    "\n",
    "y = np.array([\n",
    "    [1],\n",
    "    [0],\n",
    "    [1]\n",
    "])\n",
    "\n",
    "matriz_det = np.linalg.det(matriz)\n",
    "\n",
    "print(matriz_det)"
   ]
  }
 ],
 "metadata": {
  "kernelspec": {
   "display_name": "Python 3.10.4 64-bit",
   "language": "python",
   "name": "python3"
  },
  "language_info": {
   "codemirror_mode": {
    "name": "ipython",
    "version": 3
   },
   "file_extension": ".py",
   "mimetype": "text/x-python",
   "name": "python",
   "nbconvert_exporter": "python",
   "pygments_lexer": "ipython3",
   "version": "3.10.4"
  },
  "orig_nbformat": 4,
  "vscode": {
   "interpreter": {
    "hash": "916dbcbb3f70747c44a77c7bcd40155683ae19c65e1c03b4aa3499c5328201f1"
   }
  }
 },
 "nbformat": 4,
 "nbformat_minor": 2
}
